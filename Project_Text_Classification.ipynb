{
 "cells": [
  {
   "cell_type": "markdown",
   "metadata": {},
   "source": [
    "# Project: Text Classification"
   ]
  },
  {
   "cell_type": "markdown",
   "metadata": {},
   "source": [
    "Your task is to:\n",
    "1. Perform Test Classification using Multinomial Naive Bayes(already implemented in sklearn).\n",
    "2. Implement Naive Bayes on your own from scratch for text classification. \n",
    "3. Compare Results of your implementation of Naive Bayes with one in Sklearn."
   ]
  },
  {
   "cell_type": "markdown",
   "metadata": {},
   "source": [
    "This ipynb file may need 10 to 15 minutes(tested on an Ryzen 7 processor using just one out of its 8 cores for this program) to finish running. So u may like to run it first and then start reading it to save your time. The reason why it will take so long to finish running is that it has lot of computation to do to create a 2D matrix suitable for text classification and a lot of features to iterate through.\n",
    "\n",
    "It will take majority of its time for our own naive bayes classifier. Do not make any changes in the code before trying this code once. it may take just 5 minutes for you.(Depending upon your processor)"
   ]
  },
  {
   "cell_type": "markdown",
   "metadata": {},
   "source": [
    "### Importing Important Libraries\n",
    "I have imported the stopwords from nltk and copied more of them from internet\n",
    "\n",
    "Instead of split() function, I am using the tokenizer which makes the job much easier."
   ]
  },
  {
   "cell_type": "code",
   "execution_count": 1,
   "metadata": {
    "scrolled": false
   },
   "outputs": [
    {
     "name": "stderr",
     "output_type": "stream",
     "text": [
      "[nltk_data] Downloading package punkt to\n",
      "[nltk_data]     C:\\Users\\LENOVO\\AppData\\Roaming\\nltk_data...\n",
      "[nltk_data]   Package punkt is already up-to-date!\n",
      "[nltk_data] Downloading package stopwords to\n",
      "[nltk_data]     C:\\Users\\LENOVO\\AppData\\Roaming\\nltk_data...\n",
      "[nltk_data]   Package stopwords is already up-to-date!\n"
     ]
    },
    {
     "data": {
      "text/plain": [
       "True"
      ]
     },
     "execution_count": 1,
     "metadata": {},
     "output_type": "execute_result"
    }
   ],
   "source": [
    "import nltk\n",
    "nltk.download('punkt')\n",
    "nltk.download('stopwords')"
   ]
  },
  {
   "cell_type": "code",
   "execution_count": 2,
   "metadata": {},
   "outputs": [],
   "source": [
    "import os\n",
    "import numpy as np\n",
    "from sklearn.naive_bayes import MultinomialNB\n",
    "import string\n",
    "from nltk.corpus import stopwords\n",
    "from nltk.tokenize import word_tokenize\n",
    "from sklearn.model_selection import train_test_split"
   ]
  },
  {
   "cell_type": "code",
   "execution_count": 3,
   "metadata": {
    "scrolled": true
   },
   "outputs": [
    {
     "data": {
      "text/plain": [
       "{'alt.atheism': 0,\n",
       " 'comp.graphics': 1,\n",
       " 'comp.os.ms-windows.misc': 2,\n",
       " 'comp.sys.ibm.pc.hardware': 3,\n",
       " 'comp.sys.mac.hardware': 4,\n",
       " 'comp.windows.x': 5,\n",
       " 'misc.forsale': 6,\n",
       " 'rec.autos': 7,\n",
       " 'rec.motorcycles': 8,\n",
       " 'rec.sport.baseball': 9,\n",
       " 'rec.sport.hockey': 10,\n",
       " 'sci.crypt': 11,\n",
       " 'sci.electronics': 12,\n",
       " 'sci.med': 13,\n",
       " 'sci.space': 14,\n",
       " 'soc.religion.christian': 15,\n",
       " 'talk.politics.guns': 16,\n",
       " 'talk.politics.mideast': 17,\n",
       " 'talk.politics.misc': 18,\n",
       " 'talk.religion.misc': 19}"
      ]
     },
     "execution_count": 3,
     "metadata": {},
     "output_type": "execute_result"
    }
   ],
   "source": [
    "classes = [str(i).split()[1][1:-2] for i in os.scandir('mini_newsgroups')]\n",
    "all_classes = {}\n",
    "for i in range(len(classes)):\n",
    "    all_classes[classes[i]] = i\n",
    "all_classes"
   ]
  },
  {
   "cell_type": "markdown",
   "metadata": {},
   "source": [
    "## Extracting data from the files"
   ]
  },
  {
   "cell_type": "code",
   "execution_count": 4,
   "metadata": {},
   "outputs": [],
   "source": [
    "X = []\n",
    "Y = []\n",
    "for class_ in all_classes.keys():\n",
    "    files = list(os.walk('20_newsgroups' + '/' + class_))[0][2]\n",
    "    for i in files:\n",
    "        with open('20_newsgroups' + '/' + class_ + '/' + i) as file:\n",
    "            data = file.readlines()\n",
    "        data=[word_tokenize(doc) for doc in data]\n",
    "        X.append(data)\n",
    "        Y.append(class_)\n",
    "        \n",
    "X = np.array(X, dtype=list)\n",
    "Y = np.array(Y)"
   ]
  },
  {
   "cell_type": "code",
   "execution_count": 5,
   "metadata": {
    "scrolled": true
   },
   "outputs": [
    {
     "name": "stdout",
     "output_type": "stream",
     "text": [
      "(14997,)\n",
      "(14997,)\n",
      "(5000,)\n",
      "(5000,)\n"
     ]
    }
   ],
   "source": [
    "x_train, x_test, y_train, y_test = train_test_split(X, Y, random_state=1)\n",
    "print(x_train.shape)\n",
    "print(y_train.shape)\n",
    "print(x_test.shape)\n",
    "print(y_test.shape)"
   ]
  },
  {
   "cell_type": "code",
   "execution_count": 6,
   "metadata": {},
   "outputs": [
    {
     "data": {
      "text/plain": [
       "179"
      ]
     },
     "execution_count": 6,
     "metadata": {},
     "output_type": "execute_result"
    }
   ],
   "source": [
    "stops=set(stopwords.words('english'))\n",
    "# these are the stopwords which we don't want to include in out vocabulary.\n",
    "len(stops)"
   ]
  },
  {
   "cell_type": "code",
   "execution_count": 7,
   "metadata": {
    "scrolled": true
   },
   "outputs": [
    {
     "data": {
      "text/plain": [
       "211"
      ]
     },
     "execution_count": 7,
     "metadata": {},
     "output_type": "execute_result"
    }
   ],
   "source": [
    "stops.update(list(string.punctuation))\n",
    "# punctuation marks also should be removed from our vocabulary.\n",
    "len(stops)"
   ]
  },
  {
   "cell_type": "code",
   "execution_count": 8,
   "metadata": {
    "scrolled": true
   },
   "outputs": [
    {
     "data": {
      "text/plain": [
       "1188"
      ]
     },
     "execution_count": 8,
     "metadata": {},
     "output_type": "execute_result"
    }
   ],
   "source": [
    "# later on while debugging the code i realised that there are more stop words still residing there in these documents apart from\n",
    "# those i have already included.\n",
    "# so i copied more stop words from the internet and imported them using numpy.loadtxt() and updated my set of stop words.\n",
    "more_stops=np.loadtxt(\"more_stop_words.txt\", dtype=str, delimiter='\", \"')[1:-1]\n",
    "stops.update(more_stops)\n",
    "len(stops)\n",
    "# now we have these many stop words..."
   ]
  },
  {
   "cell_type": "code",
   "execution_count": 9,
   "metadata": {
    "scrolled": true
   },
   "outputs": [
    {
     "data": {
      "text/plain": [
       "2390112"
      ]
     },
     "execution_count": 9,
     "metadata": {},
     "output_type": "execute_result"
    }
   ],
   "source": [
    "all_words = []\n",
    "# this variable is going to contain all the words from all our tokenized documents.\n",
    "\n",
    "for doc in x_train:\n",
    "    for li in doc:\n",
    "        for word in li:\n",
    "            if (word.lower() not in stops) and len(word)>2 and word[0]!=\"'\" and word!=\"n't\" and word[0]!=\".\":\n",
    "                all_words.append(word.lower())\n",
    "    \n",
    "len(all_words)"
   ]
  },
  {
   "cell_type": "code",
   "execution_count": 10,
   "metadata": {
    "scrolled": true
   },
   "outputs": [
    {
     "name": "stdout",
     "output_type": "stream",
     "text": [
      "238210\n"
     ]
    }
   ],
   "source": [
    "# This function accepts a list and returns a dictionary in which keys are the perticular words in the list and values are\n",
    "# the frequency of that element in that list.\n",
    "def freq_dict(all_words):\n",
    "    dic=dict()\n",
    "    #it iterates through all the elements in the list and increases the frequency by one if it encounters the same element again.\n",
    "    for word in all_words:\n",
    "        if word in dic.keys():\n",
    "            dic[word]+=1\n",
    "        else:\n",
    "            dic[word]=1\n",
    "    return dic\n",
    "\n",
    "dic=freq_dict(all_words)\n",
    "print(len(dic.keys()))\n",
    "# Now in the \"dic\" variable we have the frequencies of all the elements of the list \"all words\"."
   ]
  },
  {
   "cell_type": "markdown",
   "metadata": {},
   "source": [
    "## Frequency Distribution of words"
   ]
  },
  {
   "cell_type": "code",
   "execution_count": 11,
   "metadata": {},
   "outputs": [],
   "source": [
    "# namely \"freq\" and \"words\". and then i will arrange them in a decreasing fashion of frequency.\n",
    "freq = np.array([i for i in dic.values()])\n",
    "words = np.array([i for i in dic.keys()])\n",
    "words = words[np.argsort(freq)][::-1]\n",
    "freq = np.sort(freq)[::-1]\n",
    "# now i have sorted both the arrays and first arranged them in ascending order using np.sort() and np.argsort() and then i have\n",
    "# reversed the so obtained array to get a descending ordered array."
   ]
  },
  {
   "cell_type": "code",
   "execution_count": 12,
   "metadata": {},
   "outputs": [
    {
     "data": {
      "image/png": "[encoded data removed]",
      "text/plain": [
       "<Figure size 1440x504 with 1 Axes>"
      ]
     },
     "metadata": {
      "needs_background": "light"
     },
     "output_type": "display_data"
    }
   ],
   "source": [
    "# This cell draws a frequency distribution graph for us to from where we can carefully observe the frequency trend of out list.\n",
    "import matplotlib.pyplot as plt\n",
    "\n",
    "# following are the limits for our graph.\n",
    "lower_limit = 0    # default\n",
    "upper_limit = 3000    # default\n",
    "difference_between_each_xtick = 50  # default value. change these values to observe the graph in more depth\n",
    "# adjusting size of the graph for more clearity.\n",
    "plt.figure(figsize=(20, 7))\n",
    "# plotting\n",
    "plt.plot(np.arange(len(freq))[lower_limit:upper_limit], freq[lower_limit:upper_limit])\n",
    "# labelling\n",
    "plt.xlabel('Words(\"nth word\")--->')\n",
    "plt.ylabel(\"Frequency--->\")\n",
    "# adjusting the xticks\n",
    "plt.xticks(np.arange(lower_limit, upper_limit, 50), rotation=45)\n",
    "plt.grid()\n",
    "plt.show()"
   ]
  },
  {
   "cell_type": "code",
   "execution_count": 13,
   "metadata": {},
   "outputs": [
    {
     "name": "stdout",
     "output_type": "stream",
     "text": [
      "2751 29\n"
     ]
    }
   ],
   "source": [
    "print(freq[40], freq[10000])\n",
    "features=words[40:10001]\n",
    "# features variable contains all the top words which are most frequently used in all our documents. \n",
    "# since there are 238210 words I don't want the very high frequency words to get into my final features list as\n",
    "# they may be present in all the documents which will not help me much for classiication.\n",
    "# so i have choosen the words having frequency freq[40] to freq[10000]"
   ]
  },
  {
   "cell_type": "code",
   "execution_count": 14,
   "metadata": {},
   "outputs": [],
   "source": [
    "''' This function is the backbone of our Text Classification.\n",
    "    It takes the patameters x_train or x_test and the list of all features and converts the data into a 2-D array \n",
    "    which contains the frequency of that feature in that perticular document,\n",
    "    where rows are the documents and columns are the features.\n",
    "'''\n",
    "def data_modifier(x_data, features):\n",
    "    modified_data=np.zeros((len(x_data), len(features)))\n",
    "    # modified_data currently have a ZEROS numpy array whose shape is (len(x_data), len(features))\n",
    "    count=0\n",
    "    # Ignore this \"Count\" variable. i have created it just to keep an eye on the progress of our algorithm.\n",
    "    max_count=len(x_data)\n",
    "    for i in range(len(x_data)):\n",
    "        # looping over each and every row in the x_data\n",
    "        current_doc=x_data[i]\n",
    "        # current_doc contains the current document on which we are iterating.(As the name suggests obviously)\n",
    "        d=dict()\n",
    "        # this dictionary contains the frequency of all the elements in our current_doc.\n",
    "        for li in current_doc:\n",
    "            for word in li:\n",
    "                if word in d.keys():\n",
    "                    d[word]+=1\n",
    "                else:\n",
    "                    d[word]=1\n",
    "        # dictionary created\n",
    "        for j in range(len(features)):\n",
    "            # now for each feature in features we will insert the value of the dictionary for the corresponding. that is, \n",
    "            # the frequency of each feature in that current document.\n",
    "            if features[j] in d.keys():\n",
    "                modified_data[i][j]=d[features[j]]\n",
    "            else:\n",
    "                # if the current feature is not in the dictionary, it will remain 0 in the modified_data 2D matrix\n",
    "                continue\n",
    "        count+=1\n",
    "        \n",
    "    # finally I have returned the modified array.\n",
    "    return modified_data\n",
    "# this function takes some time to process because i have considered nearly 3000 features and apart from that we have so many\n",
    "# documents which contains so many words. so the algorithm has to go through each word in features list for each word in a perticular\n",
    "# document. and this needs to be done because I think there is probably no other way to create such a modified array from x_data."
   ]
  },
  {
   "cell_type": "markdown",
   "metadata": {},
   "source": [
    "### Modifying data"
   ]
  },
  {
   "cell_type": "code",
   "execution_count": 15,
   "metadata": {},
   "outputs": [],
   "source": [
    "x_train_modified = data_modifier(x_train, features)\n",
    "# training and testing data has to be modified saparately because we cant use the testing data for training purpose\n",
    "# as both the Training and testing data must be having their own separate vocabularies."
   ]
  },
  {
   "cell_type": "code",
   "execution_count": 16,
   "metadata": {},
   "outputs": [],
   "source": [
    "x_test_modified= data_modifier(x_test, features)\n",
    "# modified testing data"
   ]
  },
  {
   "cell_type": "markdown",
   "metadata": {},
   "source": [
    "## Trying out the inbuilt Multinomial Naive Bayes classifier"
   ]
  },
  {
   "cell_type": "code",
   "execution_count": 17,
   "metadata": {
    "scrolled": false
   },
   "outputs": [
    {
     "data": {
      "text/plain": [
       "0.9048"
      ]
     },
     "execution_count": 17,
     "metadata": {},
     "output_type": "execute_result"
    }
   ],
   "source": [
    "clf_inbuilt = MultinomialNB()\n",
    "clf_inbuilt.fit(x_train_modified, y_train)\n",
    "clf_inbuilt.score(x_test_modified, y_test)\n",
    "# It seems like a descent score."
   ]
  },
  {
   "cell_type": "markdown",
   "metadata": {},
   "source": [
    "## Writing our own Naive Bayes Classifier"
   ]
  },
  {
   "cell_type": "code",
   "execution_count": 18,
   "metadata": {},
   "outputs": [],
   "source": [
    "# fit function takes the training data and gives you a dictionary whose keys are the different classes available to classify.\n",
    "# and for each key, value is another dictionary, whose keys are all the features available to us and value corresponding\n",
    "# to each key is sum of all the row of training data corresponding to the current class.(the original key or (say) primary key)\n",
    "def fit(x_train, y_train):\n",
    "    count=dict()\n",
    "    classes = set(y_train)\n",
    "    for i in classes:\n",
    "        needed_docs=x_train[y_train==i]\n",
    "        # these are all the documents we need to work upon corresponding to the class i.\n",
    "        count[i]=dict()\n",
    "        # count is a dictionary whose each key is yet another dictionary.\n",
    "        count[i]['total']=0\n",
    "        # it will maintain the total number of words in class i.\n",
    "        for j in range(len(features)):\n",
    "            count[i][features[j]]=needed_docs[:, j].sum()\n",
    "            # it gives me-\"how many times jth feature is coming corresponding to class i\"\n",
    "            count[i]['total']+=count[i][features[j]]\n",
    "            # this additional key named \"total\" stores the sum of all the values of ith key which signifies the total number of\n",
    "            # words in class i.\n",
    "    # returning the dictionary at last.\n",
    "    return count\n",
    "\n",
    "# this \"probability\" function is another backbone of our naive bayes classifier.But before this function please ckeck out \n",
    "# predict function given below.\n",
    "# This \"Probability\" function takes takes the dictionary, which was originally returned by fit function, the current data point and the current class as its params.\n",
    "def probability(dictionary, x, current_class):\n",
    "    probas_for_each_word=[]\n",
    "    # my plan, here, is to store all the probabilities for each word in features which is available in the current document\n",
    "    # and then return the logarithmic sum of all these probabilities for that perticular document.\n",
    "    for i in range(len(x)):\n",
    "        # iterating through each feature.\n",
    "        if x[i]!=0:\n",
    "            # I am skipping those features whose value corresponding to the current document is 0, that is, they are not present\n",
    "            # in the that document.\n",
    "            numerator=dictionary[current_class][features[i]]\n",
    "            # it denotes that how many times that ith feature is occuring in \"current_class\"\n",
    "            # this is the numerator of our NON LOGARITHMIC PROBABILITY\n",
    "            denominator=dictionary[current_class]['total']\n",
    "            # it denotes that what is the total number of words in the current class.\n",
    "            # this is the denominator of our NON LOGARITHMIC PROBABILITY\n",
    "            proba=np.log((numerator+1)/(denominator+len(x)))\n",
    "            # i have created a variable \"proba\" which stores the logarithmic probability which also includes the laplace crrection.\n",
    "            # here \"1\" with the numerator and len(x) with denominator denotes the laplace correction.\n",
    "            probas_for_each_word.append(proba)\n",
    "            # finally i appended \"proba\" to the probas_for_each_word array.\n",
    "    # returning the logarithmic sum of all the probabilities. (which can be treated as multiplication of all the probabilities,\n",
    "    # but multiplying the probabilities simply won't be a good practice as it may nullify the extreamily small probabilities)\n",
    "    return sum(probas_for_each_word)\n",
    "\n",
    "# The predict_single function takes a perticular data point \"x\" from \"predict\" function and a dictionary which was obtained\n",
    "# originally from fit function. Before going through this function, you may like to check out the \"predict\" function.\n",
    "def predict_single(dic, x):\n",
    "    classes = dictionary.keys()\n",
    "    # this variable \"classes\" maintains all the possible different classes available to us.\n",
    "    best_p = -1000\n",
    "    best_class = -1\n",
    "    # initiated best_p and best_class variables with negative values because we want to consider maximum valued probabilities at\n",
    "    # the end. In the first run itself they will be replaced by positive values. \"best_p\" variable denotes the best probability\n",
    "    # uptill now. and as the name suggests, best_class denotes the best possible class uptill now.\n",
    "    first_run = True\n",
    "    # this boolean variable is taken keeping initial negative values in mind\n",
    "    for current_class in classes:\n",
    "        # iterating through each and every class in all possible classes.\n",
    "        p_current_class = probability(dic, x, current_class)\n",
    "        #p_current_class denotes the probability of current class.\n",
    "        if (first_run or p_current_class > best_p):\n",
    "            # if the probability of current class is better than the best probability then i will update the best probability and\n",
    "            # best_class to probability of current class and the current class respectively.\n",
    "            best_p = p_current_class\n",
    "            best_class = current_class\n",
    "            #updated\n",
    "        first_run = False\n",
    "    # returning the best predicted class for the current data point\n",
    "    return best_class\n",
    "\n",
    "# The predict function takes testing data and a dictionary as its input, where the dictionary is the one returned from fit function.\n",
    "def predict(x_test, dic):\n",
    "    y_pred=[]\n",
    "    # y_pred maintains all the predicted classes for provided testing data(In modified format---> see the \"data_modifier\" function).\n",
    "    for doc in x_test:\n",
    "        # iterating each document in testing data.\n",
    "        y_pred.append(predict_single(dic, doc))\n",
    "        # for each testing data point, we will append the value of predicted class to y_pred. and we will get that value from\n",
    "        # predict_single function\n",
    "    # returning the predicted data finally\n",
    "    return y_pred"
   ]
  },
  {
   "cell_type": "code",
   "execution_count": 19,
   "metadata": {},
   "outputs": [],
   "source": [
    "dictionary = fit(x_train_modified, y_train)"
   ]
  },
  {
   "cell_type": "code",
   "execution_count": 20,
   "metadata": {},
   "outputs": [],
   "source": [
    "y_predicted=predict(x_test_modified, dictionary)\n",
    "# storing the predicted values."
   ]
  },
  {
   "cell_type": "code",
   "execution_count": 21,
   "metadata": {},
   "outputs": [
    {
     "name": "stdout",
     "output_type": "stream",
     "text": [
      "222    2    0    0    0    0    0    0    1    0    0    1    0    1    1    4    1    0    1    27    \n",
      "1    231    4    5    1    3    1    0    0    0    0    1    0    0    0    0    1    0    0    0    \n",
      "0    7    234    9    0    2    1    0    0    0    0    0    0    0    0    0    0    0    0    0    \n",
      "0    3    10    229    9    1    3    0    0    0    0    0    3    1    0    0    0    0    1    0    \n",
      "0    1    5    4    254    0    1    0    0    0    0    1    0    0    0    0    0    0    0    0    \n",
      "0    9    2    3    2    243    0    1    0    1    0    1    0    0    2    0    0    0    0    1    \n",
      "0    5    1    3    1    0    230    7    1    0    0    0    3    0    1    0    0    0    0    0    \n",
      "0    0    0    0    0    0    6    213    0    0    0    0    1    0    0    0    3    0    0    0    \n",
      "0    0    0    0    0    0    2    2    284    0    1    0    0    0    0    0    0    1    2    1    \n",
      "0    1    0    0    0    0    1    0    1    240    1    0    0    0    0    1    0    0    0    0    \n",
      "0    0    0    0    1    0    0    0    0    0    245    0    0    0    0    0    0    0    1    0    \n",
      "0    4    0    2    0    0    0    0    0    0    0    242    0    0    0    0    0    0    0    0    \n",
      "0    5    0    9    3    0    0    1    0    0    0    0    221    0    0    0    0    0    0    0    \n",
      "1    5    0    0    0    0    4    1    1    0    0    0    1    222    0    0    0    1    0    0    \n",
      "0    6    0    0    1    0    0    0    0    1    0    0    1    0    225    1    1    0    2    0    \n",
      "0    0    0    0    0    0    0    0    0    0    0    0    0    0    0    233    0    0    0    0    \n",
      "0    0    0    0    1    0    0    0    0    0    0    2    0    0    0    0    239    0    10    3    \n",
      "0    0    0    0    0    0    2    0    0    0    0    0    0    0    0    0    0    247    8    1    \n",
      "0    2    0    0    0    0    0    0    0    0    0    0    0    0    2    0    10    9    190    15    \n",
      "59    2    0    0    0    0    0    0    0    0    0    0    0    0    1    13    10    0    28    139    \n"
     ]
    }
   ],
   "source": [
    "from sklearn.metrics import confusion_matrix\n",
    "# printing the confusion matrix for our own naive bayes classifier.\n",
    "# here I am manually printing the confusion matrix for a more clear view.\n",
    "for i in confusion_matrix(y_true=y_test, y_pred=y_predicted):\n",
    "    for j in i:\n",
    "        print(j, end=\"    \")\n",
    "    print()"
   ]
  },
  {
   "cell_type": "code",
   "execution_count": 22,
   "metadata": {
    "scrolled": false
   },
   "outputs": [
    {
     "name": "stdout",
     "output_type": "stream",
     "text": [
      "                          precision    recall  f1-score   support\n",
      "\n",
      "             alt.atheism       0.78      0.85      0.82       261\n",
      "           comp.graphics       0.82      0.93      0.87       248\n",
      " comp.os.ms-windows.misc       0.91      0.92      0.92       253\n",
      "comp.sys.ibm.pc.hardware       0.87      0.88      0.87       260\n",
      "   comp.sys.mac.hardware       0.93      0.95      0.94       266\n",
      "          comp.windows.x       0.98      0.92      0.95       265\n",
      "            misc.forsale       0.92      0.91      0.91       252\n",
      "               rec.autos       0.95      0.96      0.95       223\n",
      "         rec.motorcycles       0.99      0.97      0.98       293\n",
      "      rec.sport.baseball       0.99      0.98      0.99       245\n",
      "        rec.sport.hockey       0.99      0.99      0.99       247\n",
      "               sci.crypt       0.98      0.98      0.98       248\n",
      "         sci.electronics       0.96      0.92      0.94       239\n",
      "                 sci.med       0.99      0.94      0.97       236\n",
      "               sci.space       0.97      0.95      0.96       238\n",
      "  soc.religion.christian       0.92      1.00      0.96       233\n",
      "      talk.politics.guns       0.90      0.94      0.92       255\n",
      "   talk.politics.mideast       0.96      0.96      0.96       258\n",
      "      talk.politics.misc       0.78      0.83      0.81       228\n",
      "      talk.religion.misc       0.74      0.55      0.63       252\n",
      "\n",
      "                accuracy                           0.92      5000\n",
      "               macro avg       0.92      0.92      0.92      5000\n",
      "            weighted avg       0.92      0.92      0.92      5000\n",
      "\n"
     ]
    }
   ],
   "source": [
    "from sklearn.metrics import classification_report\n",
    "# printing the classification report for our own naive bayes classifier.\n",
    "print(classification_report(y_true=y_test, y_pred=y_predicted))"
   ]
  },
  {
   "cell_type": "markdown",
   "metadata": {},
   "source": [
    "### Observations\n",
    "\n",
    "\n",
    "It seems like recall of some of the classes is excellent while for some other is moderate this is most probably because of selection of features. More accurately we select features, more will be the f1-score, precision and recall values. \n",
    "\n",
    "Although from the confusion matrix we can determine that our algorithm is very good with an accuracy of nearly 92%. The accuracy is even better then the one we got from the inbuilt multinomial naive bayes algorithm."
   ]
  }
 ],
 "metadata": {
  "kernelspec": {
   "display_name": "Python 3",
   "language": "python",
   "name": "python3"
  },
  "language_info": {
   "codemirror_mode": {
    "name": "ipython",
    "version": 3
   },
   "file_extension": ".py",
   "mimetype": "text/x-python",
   "name": "python",
   "nbconvert_exporter": "python",
   "pygments_lexer": "ipython3",
   "version": "3.8.5"
  }
 },
 "nbformat": 4,
 "nbformat_minor": 4
}
